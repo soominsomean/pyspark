{
 "cells": [
  {
   "cell_type": "markdown",
   "id": "416fc483-02a2-43d1-acbe-064200272ac1",
   "metadata": {},
   "source": [
    "# https://spark.apache.org/docs/3.1.1/api/python/reference/api/pyspark.sql.functions.aggregate.html"
   ]
  },
  {
   "cell_type": "code",
   "execution_count": 7,
   "id": "3d2a6fea-c41f-42c6-a6a9-4f197c47ee9c",
   "metadata": {},
   "outputs": [
    {
     "name": "stderr",
     "output_type": "stream",
     "text": [
      "23/11/08 19:02:32 WARN GarbageCollectionMetrics: To enable non-built-in garbage collector(s) List(G1 Concurrent GC), users should configure it(them) to spark.eventLog.gcMetrics.youngGenerationGarbageCollectors or spark.eventLog.gcMetrics.oldGenerationGarbageCollectors\n"
     ]
    }
   ],
   "source": [
    "# Intialize spark session\n",
    "from pyspark.sql import SparkSession\n",
    "\n",
    "spark = (\n",
    "    SparkSession \n",
    "    .builder \n",
    "    .appName(\"pyspark_study_spark_session\") \n",
    "    .config(\"spark.some.config.option\", \"some-value\") \n",
    "    .getOrCreate()\n",
    ")"
   ]
  },
  {
   "cell_type": "code",
   "execution_count": 23,
   "id": "9d3d2d09-a73e-4576-b6c4-5ef12f08bb1d",
   "metadata": {},
   "outputs": [
    {
     "name": "stdout",
     "output_type": "stream",
     "text": [
      "+---+--------------------+\n",
      "| id|              values|\n",
      "+---+--------------------+\n",
      "|  1|[20.0, 4.0, 2.0, ...|\n",
      "+---+--------------------+\n",
      "\n"
     ]
    }
   ],
   "source": [
    "df = spark.createDataFrame([(1, [20.0, 4.0, 2.0, 6.0, 10.0])], (\"id\", \"values\"))\n",
    "df.show()"
   ]
  },
  {
   "cell_type": "code",
   "execution_count": 32,
   "id": "0c17ab13-8f0a-49e7-863b-04b6f74ddd04",
   "metadata": {},
   "outputs": [
    {
     "name": "stdout",
     "output_type": "stream",
     "text": [
      "+----+\n",
      "| sum|\n",
      "+----+\n",
      "|42.0|\n",
      "+----+\n",
      "\n"
     ]
    }
   ],
   "source": [
    "df.select(\n",
    "    F.aggregate(\n",
    "        col=F.col(\"values\"), \n",
    "        initialValue=F.lit(0.0), \n",
    "        merge=lambda acc, x: acc + x # acc: accumulator, x: current value\n",
    "    )\n",
    "    .alias(\"sum\")\n",
    ").show()"
   ]
  },
  {
   "cell_type": "code",
   "execution_count": 38,
   "id": "6af2485f-cffd-461f-8275-5d10e25ad111",
   "metadata": {},
   "outputs": [],
   "source": [
    "def merge(acc, x):\n",
    "    count = acc.count + 1\n",
    "    sum = acc.sum + x\n",
    "    return F.struct(count.alias(\"count\"), sum.alias(\"sum\"))"
   ]
  },
  {
   "cell_type": "code",
   "execution_count": 44,
   "id": "e62e5714-e31a-4939-a8e4-c85b51c33068",
   "metadata": {},
   "outputs": [
    {
     "name": "stdout",
     "output_type": "stream",
     "text": [
      "+---------+\n",
      "|     mean|\n",
      "+---------+\n",
      "|{5, 42.0}|\n",
      "+---------+\n",
      "\n"
     ]
    }
   ],
   "source": [
    "df.select(\n",
    "    F.aggregate(\n",
    "        \"values\",\n",
    "        F.struct(F.lit(0).alias(\"count\"), F.lit(0.0).alias(\"sum\")),\n",
    "        merge,\n",
    "        # lambda acc: acc.sum / acc.count,\n",
    "    ).alias(\"mean\")\n",
    ").show()"
   ]
  },
  {
   "cell_type": "code",
   "execution_count": 41,
   "id": "5ccde338-120a-41e7-ad55-cc7bdd808f8c",
   "metadata": {},
   "outputs": [
    {
     "data": {
      "text/plain": [
       "Column<'struct(0 AS count, 0.0 AS sum)'>"
      ]
     },
     "execution_count": 41,
     "metadata": {},
     "output_type": "execute_result"
    }
   ],
   "source": [
    "F.struct(F.lit(0).alias(\"count\"), F.lit(0.0).alias(\"sum\"))"
   ]
  }
 ],
 "metadata": {
  "kernelspec": {
   "display_name": "Python 3 (ipykernel)",
   "language": "python",
   "name": "python3"
  },
  "language_info": {
   "codemirror_mode": {
    "name": "ipython",
    "version": 3
   },
   "file_extension": ".py",
   "mimetype": "text/x-python",
   "name": "python",
   "nbconvert_exporter": "python",
   "pygments_lexer": "ipython3",
   "version": "3.8.10"
  }
 },
 "nbformat": 4,
 "nbformat_minor": 5
}
